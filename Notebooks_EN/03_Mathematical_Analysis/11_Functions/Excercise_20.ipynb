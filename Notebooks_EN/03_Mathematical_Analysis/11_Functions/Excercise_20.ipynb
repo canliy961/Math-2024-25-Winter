{
  "nbformat": 4,
  "nbformat_minor": 0,
  "metadata": {
    "colab": {
      "provenance": [],
      "include_colab_link": true
    },
    "kernelspec": {
      "name": "python3",
      "display_name": "Python 3"
    },
    "language_info": {
      "name": "python"
    }
  },
  "cells": [
    {
      "cell_type": "markdown",
      "metadata": {
        "id": "view-in-github",
        "colab_type": "text"
      },
      "source": [
        "<a href=\"https://colab.research.google.com/github/canliy961/Math-2024-25-Winter/blob/main/Notebooks_EN/03_Mathematical_Analysis/11_Functions/Excercise_20.ipynb\" target=\"_parent\"><img src=\"https://colab.research.google.com/assets/colab-badge.svg\" alt=\"Open In Colab\"/></a>"
      ]
    },
    {
      "cell_type": "markdown",
      "source": [
        "## 20. Limits of Real Functions\n",
        "\n",
        "1. Compute:\n",
        "   - $\\displaystyle\\lim_{x \\to \\infty} \\frac{x^3 + 2x^2}{x^4 - 3x^3}$\n",
        "\n",
        "2. Find:\n",
        "   \n",
        "   - $\\displaystyle \\lim_{x \\to 0} \\frac{\\sin(3x)}{2x+1}$.\n",
        "\n",
        "4. Find the asymptotes of the function:\n",
        "  \n",
        "   - $f(x) = \\frac{x^2 - 1}{x^2 + 1}$\n",
        "   - $g(x) = \\frac{\\sin(x)}{x^2+1}$"
      ],
      "metadata": {
        "id": "cR8VOfjI1wIj"
      }
    },
    {
      "cell_type": "markdown",
      "source": [
        "\n",
        "\n",
        "### 1. Compute:\n",
        "\n",
        "$$\\lim_{x \\to \\infty} \\frac{x^3 + 2x^2}{x^4 - 3x^3}.$$\n",
        "\n",
        "Factor out the highest power of $x$ in numerator and denominator:\n",
        "\n",
        "$$\\frac{x^3(1 + 2/x)}{x^4(1 - 3/x)} = \\frac{1 + 2/x}{x(1 - 3/x)}.$$\n",
        "\n",
        "As $x \\to \\infty$, $1 + 2/x \\to 1$, $1 - 3/x \\to 1$, and $x \\to \\infty$ in the denominator. Thus:\n",
        "\n",
        "$$\\lim_{x\\to\\infty} \\frac{1 + 2/x}{x(1 - 3/x)} = 0.$$\n",
        "\n",
        "---\n",
        "\n",
        "### 2. Find:\n",
        "\n",
        "$$\\lim_{x \\to 0} \\frac{\\sin(3x)}{2x + 1}.$$\n",
        "\n",
        "Evaluate by direct substitution:\n",
        "\n",
        "- The denominator at $x=0$ is $1$.\n",
        "- The numerator at $x=0$ is $\\sin(0)=0$.\n",
        "\n",
        "Thus,\n",
        "\n",
        "$$\\lim_{x \\to 0} \\frac{\\sin(3x)}{2x + 1} = \\frac{0}{1} = 0.$$\n",
        "\n",
        "---\n",
        "\n",
        "### 4. Find the asymptotes of the functions:\n",
        "\n",
        "#### (a) $f(x) = \\frac{x^2 - 1}{x^2 + 1}$\n",
        "\n",
        "1. **Vertical asymptotes**: Solve $x^2 + 1 = 0$. No real solutions, so no vertical asymptotes.\n",
        "2. **Horizontal asymptote**: Compute $\\lim_{x \\to \\pm\\infty} f(x) = \\lim_{x\\to\\infty}\\frac{x^2 -1}{x^2 +1}$. Factor out $x^2$:\n",
        "\n",
        "   $$\\frac{x^2(1 - 1/x^2)}{x^2(1 + 1/x^2)} = \\frac{1 - 1/x^2}{1 + 1/x^2} \\to 1.$$\n",
        "\n",
        "   Hence the horizontal asymptote is $y = 1$.\n",
        "\n",
        "#### (b) $g(x) = \\frac{\\sin(x)}{x^2 + 1}$\n",
        "\n",
        "1. **Vertical asymptotes**: Solve $x^2 + 1 = 0$. No real solutions, so no vertical asymptotes.\n",
        "2. **Horizontal asymptote**: As $x \\to \\pm\\infty$, $x^2 + 1 \\to \\infty$, while $\\sin(x)$ remains bounded. Therefore:\n",
        "\n",
        "   $$\\lim_{x\\to\\pm\\infty} \\frac{\\sin(x)}{x^2+1} = 0.$$\n",
        "\n",
        "   Hence the horizontal asymptote is $y=0$.\n"
      ],
      "metadata": {
        "id": "J06AePQlZ44s"
      }
    }
  ]
}