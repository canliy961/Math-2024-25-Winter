{
  "nbformat": 4,
  "nbformat_minor": 0,
  "metadata": {
    "colab": {
      "provenance": [],
      "include_colab_link": true
    },
    "kernelspec": {
      "name": "python3",
      "display_name": "Python 3"
    },
    "language_info": {
      "name": "python"
    }
  },
  "cells": [
    {
      "cell_type": "markdown",
      "metadata": {
        "id": "view-in-github",
        "colab_type": "text"
      },
      "source": [
        "<a href=\"https://colab.research.google.com/github/canliy961/Math-2024-25-Winter/blob/main/Notebooks_EN/03_Mathematical_Analysis/11_Functions/Excercise_20.ipynb\" target=\"_parent\"><img src=\"https://colab.research.google.com/assets/colab-badge.svg\" alt=\"Open In Colab\"/></a>"
      ]
    },
    {
      "cell_type": "markdown",
      "source": [
        "## 20. Limits of Real Functions\n",
        "\n",
        "1. Compute:\n",
        "   - $\\displaystyle\\lim_{x \\to \\infty} \\frac{x^3 + 2x^2}{x^4 - 3x^3}$\n",
        "\n",
        "2. Find:\n",
        "   \n",
        "   - $\\displaystyle \\lim_{x \\to 0} \\frac{\\sin(3x)}{2x+1}$.\n",
        "\n",
        "4. Find the asymptotes of the function:\n",
        "  \n",
        "   - $f(x) = \\frac{x^2 - 1}{x^2 + 1}$\n",
        "   - $g(x) = \\frac{\\sin(x)}{x^2+1}$"
      ],
      "metadata": {
        "id": "cR8VOfjI1wIj"
      }
    },
    {
      "cell_type": "markdown",
      "source": [
        "### 1. Compute the limit\n",
        "$$\n",
        "\\lim_{x \\to \\infty} \\frac{x^3 + 2x^2}{x^4 - 3x^3}\n",
        "$$\n",
        "\n",
        "**Solution:**\n",
        "\n",
        "To compute the limit as \\( x \\to \\infty \\), we start by dividing both the numerator and the denominator by \\( x^4 \\), the highest power of \\( x \\) in the denominator:\n",
        "$$\n",
        "\\frac{x^3 + 2x^2}{x^4 - 3x^3} = \\frac{x^3}{x^4} + \\frac{2x^2}{x^4} \\Bigg/ \\left( \\frac{x^4}{x^4} - \\frac{3x^3}{x^4} \\right)\n",
        "$$\n",
        "Simplifying each term:\n",
        "$$\n",
        "= \\frac{1}{x} + \\frac{2}{x^2} \\Bigg/ \\left( 1 - \\frac{3}{x} \\right)\n",
        "$$\n",
        "\n",
        "Now, as \\( x \\to \\infty \\), the terms \\( \\frac{1}{x} \\), \\( \\frac{2}{x^2} \\), and \\( \\frac{3}{x} \\) all approach 0. Thus, the expression simplifies to:\n",
        "$$\n",
        "\\lim_{x \\to \\infty} \\frac{1/x + 2/x^2}{1 - 3/x} = \\frac{0 + 0}{1 - 0} = 0\n",
        "$$\n",
        "\n",
        "**Conclusion:**\n",
        "\n",
        "Therefore, the limit is:\n",
        "$$\n",
        "\\lim_{x \\to \\infty} \\frac{x^3 + 2x^2}{x^4 - 3x^3} = 0\n",
        "$$\n",
        "Thus, the limit is:\n",
        "$$\n",
        "\\boxed{0}\n",
        "$$\n"
      ],
      "metadata": {
        "id": "Sv9OvzxK1xXT"
      }
    },
    {
      "cell_type": "markdown",
      "source": [
        "### 2. Find the limit\n",
        "$$\n",
        "\\lim_{x \\to 0} \\frac{\\sin(3x)}{2x + 1}\n",
        "$$\n",
        "\n",
        "**Solution:**\n",
        "\n",
        "We use the fact that\n",
        "$$\n",
        "\\lim_{x \\to 0} \\frac{\\sin(kx)}{x} = k\n",
        "$$\n",
        "where \\( k \\) is a constant. In this case, we can rewrite the expression as:\n",
        "$$\n",
        "\\frac{\\sin(3x)}{2x + 1} = \\frac{\\sin(3x)}{3x} \\cdot \\frac{3x}{2x + 1}\n",
        "$$\n",
        "\n",
        "Now, evaluate the limits of each part:\n",
        "\n",
        "1.\n",
        "$$\n",
        "\\lim_{x \\to 0} \\frac{\\sin(3x)}{3x} = 1\n",
        "$$\n",
        "by the standard limit property.\n",
        "\n",
        "2.\n",
        "$$\n",
        "\\lim_{x \\to 0} \\frac{3x}{2x + 1} = \\frac{0}{1} = 0\n",
        "$$\n",
        "\n",
        "Thus, the overall limit is:\n",
        "$$\n",
        "\\lim_{x \\to 0} \\frac{\\sin(3x)}{2x + 1} = 1 \\cdot 0 = 0\n",
        "$$\n",
        "\n",
        "**Conclusion:**\n",
        "\n",
        "Therefore, the limit is:\n",
        "$$\n",
        "\\boxed{0}\n",
        "$$\n"
      ],
      "metadata": {
        "id": "b3e93fwM2DuC"
      }
    },
    {
      "cell_type": "markdown",
      "source": [
        "### 3. Find the asymptotes of the functions:\n",
        "\n",
        "### (a) \\( f(x) = \\frac{x^2 - 1}{x^2 + 1} \\)\n",
        "\n",
        "**Solution:**\n",
        "\n",
        "To find the asymptotes, we analyze the function as \\( x \\to \\infty \\) and \\( x \\to -\\infty \\):\n",
        "\n",
        "**As \\( x \\to \\infty \\):**\n",
        "\n",
        "Divide both the numerator and the denominator by \\( x^2 \\):\n",
        "\n",
        "$$\n",
        "f(x) = \\frac{x^2 - 1}{x^2 + 1} = \\frac{1 - \\frac{1}{x^2}}{1 + \\frac{1}{x^2}}\n",
        "$$\n",
        "\n",
        "Taking the limit as \\( x \\to \\infty \\):\n",
        "\n",
        "$$\n",
        "\\lim_{x \\to \\infty} f(x) = \\frac{1 - 0}{1 + 0} = 1\n",
        "$$\n",
        "\n",
        "Thus, \\( y = 1 \\) is a horizontal asymptote of \\( f(x) \\).\n",
        "\n",
        "**As \\( x \\to -\\infty \\):**\n",
        "\n",
        "The same analysis applies, and we also find:\n",
        "\n",
        "$$\n",
        "\\lim_{x \\to -\\infty} f(x) = 1\n",
        "$$\n",
        "\n",
        "Thus, the horizontal asymptote is:\n",
        "\n",
        "$$\n",
        "y = 1\n",
        "$$\n",
        "\n",
        "There are no vertical asymptotes since the denominator \\( x^2 + 1 \\) never equals 0.\n",
        "\n",
        "---\n",
        "\n",
        "### (b) \\( g(x) = \\frac{\\sin(x)}{x^2 + 1} \\)\n",
        "\n",
        "**Solution:**\n",
        "\n",
        "We again analyze the behavior of the function as \\( x \\to \\infty \\) and \\( x \\to -\\infty \\):\n",
        "\n",
        "**As \\( x \\to \\infty \\):**\n",
        "\n",
        "The function \\( \\sin(x) \\) oscillates between -1 and 1, while \\( x^2 + 1 \\) grows without bound. Thus, the overall fraction approaches 0 because the denominator grows faster than the numerator:\n",
        "\n",
        "$$\n",
        "\\lim_{x \\to \\infty} g(x) = 0\n",
        "$$\n",
        "\n",
        "**As \\( x \\to -\\infty \\):**\n",
        "\n",
        "Similarly, the same reasoning applies:\n",
        "\n",
        "$$\n",
        "\\lim_{x \\to -\\infty} g(x) = 0\n",
        "$$\n",
        "\n",
        "Thus, \\( y = 0 \\) is a horizontal asymptote of \\( g(x) \\).\n",
        "\n",
        "There are no vertical asymptotes because \\( x^2 + 1 \\) is always positive.\n",
        "\n",
        "Therefore, the horizontal asymptote is:\n",
        "\n",
        "$$\n",
        "y = 0\n",
        "$$\n"
      ],
      "metadata": {
        "id": "iKSl3rct2L3y"
      }
    }
  ]
}