{
  "nbformat": 4,
  "nbformat_minor": 0,
  "metadata": {
    "colab": {
      "provenance": [],
      "include_colab_link": true
    },
    "kernelspec": {
      "name": "python3",
      "display_name": "Python 3"
    },
    "language_info": {
      "name": "python"
    }
  },
  "cells": [
    {
      "cell_type": "markdown",
      "metadata": {
        "id": "view-in-github",
        "colab_type": "text"
      },
      "source": [
        "<a href=\"https://colab.research.google.com/github/canliy961/Math-2024-25-Winter/blob/main/Test_notebooks/Excercise_1.ipynb\" target=\"_parent\"><img src=\"https://colab.research.google.com/assets/colab-badge.svg\" alt=\"Open In Colab\"/></a>"
      ]
    },
    {
      "cell_type": "markdown",
      "source": [
        "## 1. Basic Operations on Matrices\n",
        "\n",
        "For follwing matrices\n",
        "\n",
        "$$\n",
        "\\mathbf{A}=\n",
        "\\begin{pmatrix}\n",
        "1 & 2 \\\\\n",
        "3 & 4\n",
        "\\end{pmatrix}\n",
        "\\qquad\n",
        "\\mathbf{B}=\n",
        "\\begin{pmatrix}\n",
        "5 & 6 \\\\\n",
        "7 & 8\n",
        "\\end{pmatrix}\n",
        "\\quad\n",
        "\\mathbf{C}=\n",
        "\\begin{pmatrix}\n",
        "-1 & 2 \\\\\n",
        "3 & 0\n",
        "\\end{pmatrix}\n",
        "\\qquad\n",
        "\\mathbf{D}=\n",
        "\\begin{pmatrix}\n",
        "-1 & 2 & 3 \\\\\n",
        "4 & 0 & 6\n",
        "\\end{pmatrix}\n",
        "\\qquad\n",
        "\\mathbf{E}=\n",
        "\\begin{pmatrix}\n",
        "1 & 2\\\\\n",
        "4 & 5\\\\\n",
        "7 & 8\n",
        "\\end{pmatrix}\n",
        "$$\n",
        "\n",
        "1. Calculate: $\\mathbf{A}+\\mathbf{B}$;  $\\mathbf{B}-\\mathbf{A}$;  $\\mathbf{A}+\\mathbf{C}$; $\\mathbf{D}+\\mathbf{E}$.\n",
        "\n",
        "2. Calculate $\\frac{1}{2}\\mathbf{A}$, $2\\mathbf{B}$, $-3\\mathbf{C}$, and $4\\mathbf{D}$.\n",
        "\n",
        "3. Calculate the products $\\mathbf{A}\\cdot \\mathbf{B}$; $\\mathbf{B} \\cdot \\mathbf{A}$; $\\mathbf{A} \\cdot \\mathbf{D}$; $\\mathbf{D} \\cdot \\mathbf{E}$."
      ],
      "metadata": {
        "id": "5ing5IuIRztk"
      }
    },
    {
      "cell_type": "markdown",
      "source": [
        "1.1. Calculate: \\( A + B \\)\n",
        "\n",
        "\\[\n",
        "A + B = \\begin{pmatrix} 1 + 5 & 2 + 6 \\\\ 3 + 7 & 4 + 8 \\end{pmatrix}\n",
        "= \\begin{pmatrix} 6 & 8 \\\\ 10 & 12 \\end{pmatrix}\n",
        "\\]\n",
        "\n",
        "1.2. Calculate: \\( B - A \\)\n",
        "\n",
        "\\[\n",
        "B - A = \\begin{pmatrix} 5 - 1 & 6 - 2 \\\\ 7 - 3 & 8 - 4 \\end{pmatrix}\n",
        "= \\begin{pmatrix} 4 & 4 \\\\ 4 & 4 \\end{pmatrix}\n",
        "\\]\n",
        "\n",
        "1.3. Calculate: \\( A + C \\)\n",
        "\n",
        "\\[\n",
        "A + C = \\begin{pmatrix} 1 + (-1) & 2 + 2 \\\\ 3 + 3 & 4 + 0 \\end{pmatrix}\n",
        "= \\begin{pmatrix} 0 & 4 \\\\ 6 & 4 \\end{pmatrix}\n",
        "\\]\n",
        "\n",
        "1.4. Calculate: \\( D + E \\)\n",
        "\n",
        "Since \\( D \\) is a \\( 2 \\times 3 \\) matrix and \\( E \\) is a \\( 3 \\times 2 \\) matrix, they cannot be added, as matrix addition requires the matrices to have the same dimensions. Therefore, \\( D + E \\) is undefined.\n"
      ],
      "metadata": {
        "id": "42OhABR7Tfml"
      }
    },
    {
      "cell_type": "markdown",
      "source": [
        "2.1. Calculate: \\( \\frac{1}{2} A \\)\n",
        "\n",
        "\\[\n",
        "\\frac{1}{2} A = \\frac{1}{2} \\begin{pmatrix} 1 & 2 \\\\ 3 & 4 \\end{pmatrix}\n",
        "= \\begin{pmatrix} \\frac{1}{2} & 1 \\\\ \\frac{3}{2} & 2 \\end{pmatrix}\n",
        "\\]\n",
        "\n",
        "2.2. Calculate: \\( 2B \\)\n",
        "\n",
        "\\[\n",
        "2B = 2 \\begin{pmatrix} 5 & 6 \\\\ 7 & 8 \\end{pmatrix}\n",
        "= \\begin{pmatrix} 10 & 12 \\\\ 14 & 16 \\end{pmatrix}\n",
        "\\]\n",
        "\n",
        "2.3. Calculate: \\( -3C \\)\n",
        "\n",
        "\\[\n",
        "-3C = -3 \\begin{pmatrix} -1 & 2 \\\\ 3 & 0 \\end{pmatrix}\n",
        "= \\begin{pmatrix} 3 & -6 \\\\ -9 & 0 \\end{pmatrix}\n",
        "\\]\n",
        "\n",
        "2.4. Calculate: \\( 4D \\)\n",
        "\n",
        "\\[\n",
        "4D = 4 \\begin{pmatrix} -1 & 2 & 3 \\\\ 4 & 0 & 6 \\end{pmatrix}\n",
        "= \\begin{pmatrix} -4 & 8 & 12 \\\\ 16 & 0 & 24 \\end{pmatrix}\n",
        "\\]\n"
      ],
      "metadata": {
        "id": "Y5pTj-KQT_5c"
      }
    },
    {
      "cell_type": "markdown",
      "source": [
        "3.1. Calculate: \\( A \\cdot B \\)\n",
        "\n",
        "\\[\n",
        "A \\cdot B = \\begin{pmatrix} 1 & 2 \\\\ 3 & 4 \\end{pmatrix} \\cdot \\begin{pmatrix} 5 & 6 \\\\ 7 & 8 \\end{pmatrix}\n",
        "= \\begin{pmatrix} 1 \\times 5 + 2 \\times 7 & 1 \\times 6 + 2 \\times 8 \\\\ 3 \\times 5 + 4 \\times 7 & 3 \\times 6 + 4 \\times 8 \\end{pmatrix}\n",
        "= \\begin{pmatrix} 19 & 22 \\\\ 43 & 50 \\end{pmatrix}\n",
        "\\]\n",
        "\n",
        "3.2. Calculate: \\( B \\cdot A \\)\n",
        "\n",
        "\\[\n",
        "B \\cdot A = \\begin{pmatrix} 5 & 6 \\\\ 7 & 8 \\end{pmatrix} \\cdot \\begin{pmatrix} 1 & 2 \\\\ 3 & 4 \\end{pmatrix}\n",
        "= \\begin{pmatrix} 5 \\times 1 + 6 \\times 3 & 5 \\times 2 + 6 \\times 4 \\\\ 7 \\times 1 + 8 \\times 3 & 7 \\times 2 + 8 \\times 4 \\end{pmatrix}\n",
        "= \\begin{pmatrix} 23 & 34 \\\\ 31 & 46 \\end{pmatrix}\n",
        "\\]\n",
        "\n",
        "3.3. Calculate: \\( A \\cdot D \\)\n",
        "\n",
        "\\[\n",
        "A \\cdot D = \\begin{pmatrix} 1 & 2 \\\\ 3 & 4 \\end{pmatrix} \\cdot \\begin{pmatrix} -1 & 2 & 3 \\\\ 4 & 0 & 6 \\end{pmatrix}\n",
        "= \\begin{pmatrix} 1 \\times (-1) + 2 \\times 4 & 1 \\times 2 + 2 \\times 0 & 1 \\times 3 + 2 \\times 6 \\\\\n",
        "3 \\times (-1) + 4 \\times 4 & 3 \\times 2 + 4 \\times 0 & 3 \\times 3 + 4 \\times 6 \\end{pmatrix}\n",
        "= \\begin{pmatrix} 7 & 2 & 15 \\\\ 13 & 6 & 39 \\end{pmatrix}\n",
        "\\]\n",
        "\n",
        "3.4. Calculate: \\( D \\cdot E \\)\n",
        "\n",
        "Since \\( D \\) is a \\( 2 \\times 3 \\) matrix and \\( E \\) is a \\( 3 \\times 2 \\) matrix, their product is defined and will result in a \\( 2 \\times 2 \\) matrix.\n",
        "\n",
        "\\[\n",
        "D \\cdot E = \\begin{pmatrix} -1 & 2 & 3 \\\\ 4 & 0 & 6 \\end{pmatrix} \\cdot \\begin{pmatrix} 1 & 2 \\\\ 4 & 5 \\\\ 7 & 8 \\end{pmatrix}\n",
        "= \\begin{pmatrix} (-1) \\times 1 + 2 \\times 4 + 3 \\times 7 & (-1) \\times 2 + 2 \\times 5 + 3 \\times 8 \\\\\n",
        "4 \\times 1 + 0 \\times 4 + 6 \\times 7 & 4 \\times 2 + 0 \\times 5 + 6 \\times 8 \\end{pmatrix}\n",
        "= \\begin{pmatrix} 28 & 32 \\\\ 46 & 56 \\end{pmatrix}\n",
        "\\]\n"
      ],
      "metadata": {
        "id": "tT9CTUDOUX7k"
      }
    }
  ]
}