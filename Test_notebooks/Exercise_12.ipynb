{
  "nbformat": 4,
  "nbformat_minor": 0,
  "metadata": {
    "colab": {
      "provenance": [],
      "include_colab_link": true
    },
    "kernelspec": {
      "name": "python3",
      "display_name": "Python 3"
    },
    "language_info": {
      "name": "python"
    }
  },
  "cells": [
    {
      "cell_type": "markdown",
      "metadata": {
        "id": "view-in-github",
        "colab_type": "text"
      },
      "source": [
        "<a href=\"https://colab.research.google.com/github/canliy961/Math-2024-25-Winter/blob/main/Test_notebooks/Exercise_12.ipynb\" target=\"_parent\"><img src=\"https://colab.research.google.com/assets/colab-badge.svg\" alt=\"Open In Colab\"/></a>"
      ]
    },
    {
      "cell_type": "markdown",
      "source": [
        "## 12. Vectors II\n",
        "\n",
        "1. Perform the addition of vector $[2, 1]$ to vector $[-1, 1]$. Plot both vectors and their sum on a graph.\n",
        "\n",
        "2. Calculate the area of the triangle spanned by vectors $[2, 1]$ and $[-1, 1]$.\n",
        "\n",
        "3. Calculate the volume of the parallelepiped spanned by vectors $[2, 1]$, $[-1, 1]$, and $[1, 2]$.\n",
        "\n",
        "4. Check if vectors $[2, 1]$ and $[-1, 1]$ are perpendicular.\n",
        "\n",
        "5. Calculate the angle in degrees between vectors $[4,2,1]$ and $[1,3,2]$.\n",
        "\n",
        "6. For three-dimensional vectors: $\\mathbf{a}=[a_x, a_y, a_z]$, $\\mathbf{b}=[b_x, b_y, b_z]$, $\\mathbf{c}=[c_x, c_y, c_z]$, prove that the following identity is satisfied:\n",
        "\n",
        "$$\n",
        "\\mathbf{a} \\times (\\mathbf{b} \\times \\mathbf{c}) = (\\mathbf{a} \\cdot \\mathbf{c}) \\mathbf{b} - (\\mathbf{a} \\cdot \\mathbf{b}) \\mathbf{c}.\n",
        "$$"
      ],
      "metadata": {
        "id": "DI7PmlnM65Jv"
      }
    },
    {
      "cell_type": "markdown",
      "source": [
        "### 1. Addition of Vectors\n",
        "\n",
        "The vectors are \\( \\mathbf{v}_1 = [2, 1] \\) and \\( \\mathbf{v}_2 = [-1, 1] \\). To add two vectors, we simply add their corresponding components:\n",
        "\n",
        "$$\n",
        "[2, 1] + [-1, 1] = [2 + (-1), 1 + 1] = [1, 2]\n",
        "$$\n",
        "\n",
        "Now, let's plot the two vectors and their sum. The vector \\( [2, 1] \\) starts at the origin and ends at the point (2, 1), while the vector \\( [-1, 1] \\) starts at the origin and ends at the point (-1, 1). Their sum, \\( [1, 2] \\), starts at the origin and ends at the point (1, 2)."
      ],
      "metadata": {
        "id": "WOxoyosnSq1U"
      }
    },
    {
      "cell_type": "code",
      "source": [
        "import matplotlib.pyplot as plt\n",
        "import numpy as np\n",
        "\n",
        "# Define the vectors\n",
        "vector1 = np.array([2, 1])\n",
        "vector2 = np.array([-1, 1])\n",
        "\n",
        "# Add the vectors\n",
        "vector_sum = vector1 + vector2\n",
        "\n",
        "# Create a figure and axis\n",
        "fig, ax = plt.subplots()\n",
        "\n",
        "# Plot the vectors\n",
        "ax.quiver(0, 0, vector1[0], vector1[1], angles='xy', scale_units='xy', scale=1, color='r', label='[2, 1]')\n",
        "ax.quiver(0, 0, vector2[0], vector2[1], angles='xy', scale_units='xy', scale=1, color='b', label='[-1, 1]')\n",
        "ax.quiver(0, 0, vector_sum[0], vector_sum[1], angles='xy', scale_units='xy', scale=1, color='g', label='Sum')\n",
        "\n",
        "# Set the limits of the graph\n",
        "ax.set_xlim(-3, 3)\n",
        "ax.set_ylim(-3, 3)\n",
        "\n",
        "# Set the aspect of the plot to be equal\n",
        "ax.set_aspect('equal')\n",
        "\n",
        "# Add grid\n",
        "ax.grid(True)\n",
        "\n",
        "# Add labels\n",
        "ax.set_xlabel('X')\n",
        "ax.set_ylabel('Y')\n",
        "\n",
        "# Add a legend\n",
        "ax.legend()\n",
        "\n",
        "# Show the plot\n",
        "plt.show()\n"
      ],
      "metadata": {
        "colab": {
          "base_uri": "https://localhost:8080/",
          "height": 455
        },
        "id": "-9RMjinVSsvk",
        "outputId": "526c003b-d310-41ec-e448-c5595d30fbb4"
      },
      "execution_count": null,
      "outputs": [
        {
          "output_type": "display_data",
          "data": {
            "text/plain": [
              "<Figure size 640x480 with 1 Axes>"
            ],
            "image/png": "[encoded data removed]"
          },
          "metadata": {}
        }
      ]
    },
    {
      "cell_type": "markdown",
      "source": [
        "###  2. Area of the Triangle Spanned by Vectors\n",
        "\n",
        "The area of the triangle spanned by two vectors \\( \\mathbf{v}_1 = [2, 1] \\) and \\( \\mathbf{v}_2 = [-1, 1] \\) is given by half of the magnitude of the cross product (the determinant) of the two vectors.\n",
        "\n",
        "For vectors \\( \\mathbf{v}_1 = [2, 1] \\) and \\( \\mathbf{v}_2 = [-1, 1] \\), the cross product (in 2D, which is just a scalar) is:\n",
        "\n",
        "$$\n",
        "\\text{Area} = \\frac{1}{2} \\left| 2 \\cdot 1 - (-1 \\cdot 1) \\right| = \\frac{1}{2} \\left| 2 + 1 \\right| = \\frac{1}{2} \\cdot 3 = 1.5\n",
        "$$\n",
        "\n",
        "Thus, the area of the triangle is \\( 1.5 \\) square units.\n",
        "\n",
        "###  3. Volume of the Parallelepiped Spanned by Vectors\n",
        "\n",
        "The volume of a parallelepiped spanned by three vectors \\( \\mathbf{v}_1 = [2, 1] \\), \\( \\mathbf{v}_2 = [-1, 1] \\), and \\( \\mathbf{v}_3 = [1, 2] \\) is given by the scalar triple product, which is the determinant of a matrix whose rows (or columns) are the vectors.\n",
        "\n",
        "However, since the first two vectors are 2D, we cannot directly compute a 3D volume. To handle this, we'll assume the third vector is in the 3D space with a zero z-component:\n",
        "\\( [2, 1, 0] \\), \\( [-1, 1, 0] \\), and \\( [1, 2, 0] \\).\n",
        "\n",
        "The volume is given by the determinant of the 3x3 matrix:\n",
        "\n",
        "$$\n",
        "V = \\left| \\begin{matrix} 2 & 1 & 0 \\\\ -1 & 1 & 0 \\\\ 1 & 2 & 0 \\end{matrix} \\right|\n",
        "$$\n",
        "\n",
        "Let's compute this determinant:\n",
        "\n",
        "$$\n",
        "V = \\left| 2 \\cdot \\left( \\left| \\begin{matrix} 1 & 0 \\\\ 2 & 0 \\end{matrix} \\right| \\right) - 1 \\cdot \\left( \\left| \\begin{matrix} -1 & 0 \\\\ 1 & 0 \\end{matrix} \\right| \\right) + 0 \\cdot \\left( \\left| \\begin{matrix} -1 & 1 \\\\ 1 & 2 \\end{matrix} \\right| \\right) \\right|\n",
        "$$\n",
        "\n",
        "The 2x2 determinants are:\n",
        "\n",
        "$$\n",
        "\\left| \\begin{matrix} 1 & 0 \\\\ 2 & 0 \\end{matrix} \\right| = 0, \\quad \\left| \\begin{matrix} -1 & 0 \\\\ 1 & 0 \\end{matrix} \\right| = 0\n",
        "$$\n",
        "\n",
        "Thus,\n",
        "\n",
        "$$\n",
        "V = 0\n",
        "$$\n",
        "\n",
        "This means there is no volume (since the vectors are coplanar).\n",
        "\n",
        "###  4. Check if Vectors are Perpendicular\n",
        "\n",
        "Two vectors are perpendicular if their dot product is zero. The dot product of \\( \\mathbf{v}_1 = [2, 1] \\) and \\( \\mathbf{v}_2 = [-1, 1] \\) is:\n",
        "\n",
        "$$\n",
        "\\mathbf{v}_1 \\cdot \\mathbf{v}_2 = 2 \\cdot (-1) + 1 \\cdot 1 = -2 + 1 = -1\n",
        "$$\n",
        "\n",
        "Since the dot product is \\( -1 \\neq 0 \\), the vectors are not perpendicular.\n",
        "\n",
        "###  5. Calculate the Angle Between Vectors\n",
        "\n",
        "To calculate the angle \\( \\theta \\) between two vectors in 3D, we use the formula:\n",
        "\n",
        "$$\n",
        "\\cos(\\theta) = \\frac{\\mathbf{v}_1 \\cdot \\mathbf{v}_2}{\\|\\mathbf{v}_1\\| \\|\\mathbf{v}_2\\|}\n",
        "$$\n",
        "\n",
        "First, compute the dot product of \\( \\mathbf{v}_1 = [4, 2, 1] \\) and \\( \\mathbf{v}_2 = [1, 3, 2] \\):\n",
        "\n",
        "$$\n",
        "\\mathbf{v}_1 \\cdot \\mathbf{v}_2 = 4 \\cdot 1 + 2 \\cdot 3 + 1 \\cdot 2 = 4 + 6 + 2 = 12\n",
        "$$\n",
        "\n",
        "Now, compute the magnitudes of \\( \\mathbf{v}_1 \\) and \\( \\mathbf{v}_2 \\):\n",
        "\n",
        "$$\n",
        "\\|\\mathbf{v}_1\\| = \\sqrt{4^2 + 2^2 + 1^2} = \\sqrt{16 + 4 + 1} = \\sqrt{21}\n",
        "$$\n",
        "\n",
        "$$\n",
        "\\|\\mathbf{v}_2\\| = \\sqrt{1^2 + 3^2 + 2^2} = \\sqrt{1 + 9 + 4} = \\sqrt{14}\n",
        "$$\n",
        "\n",
        "Now, use the formula for \\( \\cos(\\theta) \\):\n",
        "\n",
        "$$\n",
        "\\cos(\\theta) = \\frac{12}{\\sqrt{21} \\cdot \\sqrt{14}} = \\frac{12}{\\sqrt{294}} \\approx \\frac{12}{17.15} \\approx 0.700\n",
        "$$\n",
        "\n",
        "Now, calculate the angle \\( \\theta \\):\n",
        "\n",
        "$$\n",
        "\\theta = \\cos^{-1}(0.700) \\approx 45.57^\\circ\n",
        "$$\n",
        "\n",
        "So, the angle between the vectors is approximately \\( 45.57^\\circ \\).\n",
        "\n",
        "###  6. Proof of the Vector Identity\n",
        "\n",
        "To prove the identity:\n",
        "\n",
        "$$\n",
        "\\mathbf{a} \\times (\\mathbf{b} \\times \\mathbf{c}) = (\\mathbf{a} \\cdot \\mathbf{c}) \\mathbf{b} - (\\mathbf{a} \\cdot \\mathbf{b}) \\mathbf{c}\n",
        "$$\n",
        "\n",
        "This is known as the vector triple product identity. It can be proven using the following approach:\n",
        "\n",
        "First, recall the definition of the cross product. The vector \\( \\mathbf{b} \\times \\mathbf{c} \\) produces a vector perpendicular to both \\( \\mathbf{b} \\) and \\( \\mathbf{c} \\), which is a linear combination of the basis vectors.\n",
        "\n",
        "Apply the distributive property of the cross product and use the properties of dot products to manipulate the terms. This involves expanding both sides of the equation and showing that both sides result in the same vector.\n"
      ],
      "metadata": {
        "id": "5RZ9cqO47sFP"
      }
    }
  ]
}