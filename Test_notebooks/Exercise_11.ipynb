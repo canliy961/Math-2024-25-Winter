{
  "nbformat": 4,
  "nbformat_minor": 0,
  "metadata": {
    "colab": {
      "provenance": [],
      "include_colab_link": true
    },
    "kernelspec": {
      "name": "python3",
      "display_name": "Python 3"
    },
    "language_info": {
      "name": "python"
    }
  },
  "cells": [
    {
      "cell_type": "markdown",
      "metadata": {
        "id": "view-in-github",
        "colab_type": "text"
      },
      "source": [
        "<a href=\"https://colab.research.google.com/github/canliy961/Math-2024-25-Winter/blob/main/Test_notebooks/Exercise_11.ipynb\" target=\"_parent\"><img src=\"https://colab.research.google.com/assets/colab-badge.svg\" alt=\"Open In Colab\"/></a>"
      ]
    },
    {
      "cell_type": "markdown",
      "source": [
        "## 11. Vectors I\n",
        "\n",
        "1. By what number should vector $\\mathbf{a} = [3, 4]$ be multiplied so that its length is equal to 1?\n",
        "\n",
        "2. Calculate the length of vector $\\mathbf{b} = [1, 1]$ and find the unit vector of this vector.\n",
        "\n",
        "3. Plot the vector and the unit vector from the previous exercise.\n",
        "\n",
        "4. Calculate the length of vector $\\mathbf{c} = [1, 2, 3]$ and find the unit vector of this vector.\n",
        "\n",
        "5. Find the Cartesian coordinates of vector $\\mathbf{v} = [2, 3, 4]$ in the basis $\\{\\mathbf{b_1} = [1, 0, 1], \\mathbf{b_2} = [0, 1, 0], \\mathbf{b_3} = [1, 0, -1]\\}$."
      ],
      "metadata": {
        "id": "oBt7xcJH3tXn"
      }
    },
    {
      "cell_type": "markdown",
      "source": [
        "### 1. By what number should vector \\(\\mathbf{a} = [3, 4]\\) be multiplied so that its length is equal to 1?\n",
        "\n",
        "To make the length of vector \\(\\mathbf{a} = [3, 4]\\) equal to 1, we need to scale it by a factor \\(\\lambda\\), such that the new vector has a length of 1.\n",
        "\n",
        "The length (or magnitude) of vector \\(\\mathbf{a}\\) is given by:\n",
        "\n",
        "$$\n",
        "|\\mathbf{a}| = \\sqrt{3^2 + 4^2} = \\sqrt{9 + 16} = \\sqrt{25} = 5\n",
        "$$\n",
        "\n",
        "We want the scaled vector to have length 1. So, we set the scaled length equal to 1:\n",
        "\n",
        "$$\n",
        "|\\lambda \\mathbf{a}| = 1\n",
        "$$\n",
        "\n",
        "The length of the scaled vector \\(\\lambda \\mathbf{a}\\) is:\n",
        "\n",
        "$$\n",
        "|\\lambda \\mathbf{a}| = |\\lambda| |\\mathbf{a}| = |\\lambda| \\cdot 5\n",
        "$$\n",
        "\n",
        "For this to be equal to 1, we solve:\n",
        "\n",
        "$$\n",
        "|\\lambda| \\cdot 5 = 1 \\quad \\Rightarrow \\quad |\\lambda| = \\frac{1}{5}\n",
        "$$\n",
        "\n",
        "Thus, the number by which we should multiply \\(\\mathbf{a}\\) is \\(\\frac{1}{5}\\).\n",
        "\n",
        "---\n",
        "\n",
        "### 2. Calculate the length of vector \\(\\mathbf{b} = [1, 1]\\) and find the unit vector of this vector.\n",
        "\n",
        "The length of vector \\(\\mathbf{b} = [1, 1]\\) is:\n",
        "\n",
        "$$\n",
        "|\\mathbf{b}| = \\sqrt{1^2 + 1^2} = \\sqrt{1 + 1} = \\sqrt{2}\n",
        "$$\n",
        "\n",
        "The unit vector \\(\\hat{\\mathbf{b}}\\) is obtained by dividing the vector \\(\\mathbf{b}\\) by its length:\n",
        "\n",
        "$$\n",
        "\\hat{\\mathbf{b}} = \\frac{\\mathbf{b}}{|\\mathbf{b}|} = \\frac{[1, 1]}{\\sqrt{2}} = \\left[\\frac{1}{\\sqrt{2}}, \\frac{1}{\\sqrt{2}}\\right]\n",
        "$$\n",
        "\n",
        "Thus, the unit vector of \\(\\mathbf{b}\\) is:\n",
        "\n",
        "$$\n",
        "\\hat{\\mathbf{b}} = \\left[\\frac{1}{\\sqrt{2}}, \\frac{1}{\\sqrt{2}}\\right]\n",
        "$$\n",
        "\n",
        "---\n",
        "\n",
        "### 3. Plot the vector and the unit vector from the previous exercise.\n",
        "\n",
        "We can plot the vector \\(\\mathbf{b} = [1, 1]\\) and the unit vector \\(\\hat{\\mathbf{b}} = \\left[\\frac{1}{\\sqrt{2}}, \\frac{1}{\\sqrt{2}}\\right]\\) on a coordinate plane. Since I cannot provide a live plot, here is the Python code you can use to generate the plot:\n",
        "\n"
      ],
      "metadata": {
        "id": "w8jvPAqi3uLu"
      }
    },
    {
      "cell_type": "code",
      "source": [
        "import matplotlib.pyplot as plt\n",
        "import numpy as np\n",
        "\n",
        "# Vectors\n",
        "b = np.array([1, 1])\n",
        "unit_b = np.array([1/np.sqrt(2), 1/np.sqrt(2)])\n",
        "\n",
        "# Plot\n",
        "plt.figure(figsize=(6, 6))\n",
        "plt.quiver(0, 0, b[0], b[1], angles='xy', scale_units='xy', scale=1, color='r', label=r'$\\mathbf{b}$')\n",
        "plt.quiver(0, 0, unit_b[0], unit_b[1], angles='xy', scale_units='xy', scale=1, color='b', label=r'$\\hat{\\mathbf{b}}$')\n",
        "\n",
        "# Labels and limits\n",
        "plt.xlim(-1, 2)\n",
        "plt.ylim(-1, 2)\n",
        "plt.axhline(0, color='black',linewidth=0.5)\n",
        "plt.axvline(0, color='black',linewidth=0.5)\n",
        "plt.grid(True)\n",
        "plt.legend()\n",
        "plt.gca().set_aspect('equal', adjustable='box')\n",
        "plt.show()"
      ],
      "metadata": {
        "colab": {
          "base_uri": "https://localhost:8080/",
          "height": 528
        },
        "id": "06hfo5MSRq2D",
        "outputId": "a8f0e421-c8d4-4406-c818-6353a6dbcfe4"
      },
      "execution_count": null,
      "outputs": [
        {
          "output_type": "display_data",
          "data": {
            "text/plain": [
              "<Figure size 600x600 with 1 Axes>"
            ],
            "image/png": "[encoded data removed]"
          },
          "metadata": {}
        }
      ]
    },
    {
      "cell_type": "markdown",
      "source": [
        "### 4. Length and Unit Vector of the Vector}\n",
        "\n",
        "For the vector \\( \\mathbf{c} = [1, 2, 3] \\), the length is calculated as follows:\n",
        "\n",
        "$$\n",
        "\\| \\mathbf{c} \\| = \\sqrt{1^2 + 2^2 + 3^2} = \\sqrt{1 + 4 + 9} = \\sqrt{14}\n",
        "$$\n",
        "\n",
        "The unit vector \\( \\hat{\\mathbf{c}} \\) is obtained by dividing the vector \\( \\mathbf{c} \\) by its length:\n",
        "\n",
        "$$\n",
        "\\hat{\\mathbf{c}} = \\frac{\\mathbf{c}}{\\| \\mathbf{c} \\|} = \\frac{[1, 2, 3]}{\\sqrt{14}} = \\left[ \\frac{1}{\\sqrt{14}}, \\frac{2}{\\sqrt{14}}, \\frac{3}{\\sqrt{14}} \\right]\n",
        "$$\n",
        "\n",
        "Thus, the unit vector is:\n",
        "\n",
        "$$\n",
        "\\hat{\\mathbf{c}} = \\left[ \\frac{1}{\\sqrt{14}}, \\frac{2}{\\sqrt{14}}, \\frac{3}{\\sqrt{14}} \\right]\n",
        "$$\n",
        "\n"
      ],
      "metadata": {
        "id": "rEzSuScf5z7G"
      }
    },
    {
      "cell_type": "markdown",
      "source": [
        "### 5. Cartesian Coordinates of the Vector}\n",
        "\n",
        "We are given the vector \\( \\mathbf{v} = [2, 3, 4] \\) and the basis vectors:\n",
        "\n",
        "\\[\n",
        "\\mathbf{b}_1 = [1, 0, 1], \\quad \\mathbf{b}_2 = [0, 1, 0], \\quad \\mathbf{b}_3 = [1, 0, -1]\n",
        "\\]\n",
        "\n",
        "To find the Cartesian coordinates of \\( \\mathbf{v} \\) in this new basis, we need to express \\( \\mathbf{v} \\) as a linear combination of the basis vectors. That is, we want to find scalars \\( x_1, x_2, x_3 \\) such that:\n",
        "\n",
        "$$\n",
        "\\mathbf{v} = x_1 \\mathbf{b}_1 + x_2 \\mathbf{b}_2 + x_3 \\mathbf{b}_3\n",
        "$$\n",
        "\n",
        "Substitute the components of \\( \\mathbf{b}_1, \\mathbf{b}_2, \\mathbf{b}_3 \\), and \\( \\mathbf{v} \\):\n",
        "\n",
        "$$\n",
        "[2, 3, 4] = x_1 [1, 0, 1] + x_2 [0, 1, 0] + x_3 [1, 0, -1]\n",
        "$$\n",
        "\n",
        "This gives the system of equations:\n",
        "\n",
        "$$\n",
        "x_1 + x_3 = 2 \\quad \\text{(for the first component)}\n",
        "$$\n",
        "\n",
        "$$\n",
        "x_2 = 3 \\quad \\text{(for the second component)}\n",
        "$$\n",
        "\n",
        "$$\n",
        "x_1 - x_3 = 4 \\quad \\text{(for the third component)}\n",
        "$$\n",
        "\n",
        "From \\( x_2 = 3 \\), substitute into the other two equations:\n",
        "\n",
        "$$\n",
        "x_1 + x_3 = 2\n",
        "$$\n",
        "\n",
        "$$\n",
        "x_1 - x_3 = 4\n",
        "$$\n",
        "\n",
        "Add these two equations:\n",
        "\n",
        "$$\n",
        "(x_1 + x_3) + (x_1 - x_3) = 2 + 4 \\Rightarrow 2x_1 = 6 \\Rightarrow x_1 = 3\n",
        "$$\n",
        "\n",
        "Now substitute \\( x_1 = 3 \\) into \\( x_1 + x_3 = 2 \\):\n",
        "\n",
        "$$\n",
        "3 + x_3 = 2 \\Rightarrow x_3 = -1\n",
        "$$\n",
        "\n",
        "Thus, the Cartesian coordinates of \\( \\mathbf{v} \\) in the new basis are:\n",
        "\n",
        "$$\n",
        "[x_1, x_2, x_3] = [3, 3, -1]\n",
        "$$\n"
      ],
      "metadata": {
        "id": "tbo5VNNv6Kgn"
      }
    }
  ]
}